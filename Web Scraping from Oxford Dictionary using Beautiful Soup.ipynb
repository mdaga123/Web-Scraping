{
 "cells": [
  {
   "cell_type": "code",
   "execution_count": 1,
   "metadata": {},
   "outputs": [
    {
     "name": "stdout",
     "output_type": "stream",
     "text": [
      "https://www.oxfordreference.com/view/10.1093/acref/9780195081374.001.0001/acref-9780195081374?btog=chap&hide=true&page=704&pageSize=100&skipEditions=true&sort=titlesort&source=%2F10.1093%2Facref%2F9780195081374.001.0001%2Facref-9780195081374\n"
     ]
    }
   ],
   "source": [
    "num_pages = 704\n",
    "urls = []\n",
    "\n",
    "for i in range(1, num_pages+1):\n",
    "    urls.append('https://www.oxfordreference.com/view/10.1093/acref/9780195081374.001.0001/acref-9780195081374?btog=chap&hide=true&page='+str(i)+'&pageSize=100&skipEditions=true&sort=titlesort&source=%2F10.1093%2Facref%2F9780195081374.001.0001%2Facref-9780195081374')\n",
    "    \n",
    "print(urls[703])"
   ]
  },
  {
   "cell_type": "code",
   "execution_count": null,
   "metadata": {},
   "outputs": [
    {
     "name": "stdout",
     "output_type": "stream",
     "text": [
      "1\n",
      "2\n",
      "3\n",
      "4\n",
      "5\n",
      "6\n",
      "7\n",
      "8\n",
      "9\n",
      "10\n",
      "11\n",
      "12\n",
      "13\n",
      "14\n",
      "15\n",
      "16\n",
      "17\n",
      "18\n",
      "19\n"
     ]
    }
   ],
   "source": [
    "from bs4 import BeautifulSoup as bs\n",
    "from selenium import webdriver\n",
    "from selenium.webdriver.chrome.options import Options\n",
    "import time\n",
    "import random\n",
    "chrome_options=Options()\n",
    "chrome_options.add_argument('--headless')\n",
    "chrome_options.add_argument('--no-sandbox')\n",
    "chrome_options.add_argument('--disable-dev-shm-usage')\n",
    "driver=webdriver.Chrome(options=chrome_options)\n",
    "html=[]\n",
    "i=1\n",
    "\n",
    "for url in urls[400:600]: #For Amjad 0-200\n",
    "                        #For me 200-400\n",
    "                        #For Vivek 400-600\n",
    "    \n",
    "    driver=webdriver.Chrome(options = chrome_options)\n",
    "    driver.get(url)\n",
    "    assert 'Dictionary' in driver.title\n",
    "    html.append(driver.page_source)\n",
    "    driver.quit()\n",
    "    time.sleep(abs(random.normalvariate(0.5,0.5)))\n",
    "    print(i)\n",
    "    i=i+1\n"
   ]
  },
  {
   "cell_type": "code",
   "execution_count": null,
   "metadata": {},
   "outputs": [],
   "source": [
    "len(html)"
   ]
  },
  {
   "cell_type": "code",
   "execution_count": null,
   "metadata": {},
   "outputs": [],
   "source": [
    "last_names=[]\n",
    "for page in html:\n",
    "    soup=bs(page,'html.parser')\n",
    "    \n",
    "    for element in soup.find_all('h2',class_=\"itemTitle\"):\n",
    "        #print(element)\n",
    "        for x in element.find_all('a'):\n",
    "            f=(x.text)\n",
    "            l=f.split('\\n')\n",
    "            last_names.append(l[0])\n",
    "            \n",
    "       "
   ]
  },
  {
   "cell_type": "code",
   "execution_count": null,
   "metadata": {},
   "outputs": [],
   "source": [
    "len(last_names)"
   ]
  },
  {
   "cell_type": "code",
   "execution_count": null,
   "metadata": {},
   "outputs": [],
   "source": [
    "last_names"
   ]
  },
  {
   "cell_type": "code",
   "execution_count": null,
   "metadata": {},
   "outputs": [],
   "source": [
    "import pandas as pd\n",
    "last_name_df=pd.DataFrame(last_names,columns=['Last_Names'])\n",
    "last_name_df.to_excel('Oxford_Dict_LastNames.xlsx')"
   ]
  }
 ],
 "metadata": {
  "kernelspec": {
   "display_name": "Python 3",
   "language": "python",
   "name": "python3"
  },
  "language_info": {
   "codemirror_mode": {
    "name": "ipython",
    "version": 3
   },
   "file_extension": ".py",
   "mimetype": "text/x-python",
   "name": "python",
   "nbconvert_exporter": "python",
   "pygments_lexer": "ipython3",
   "version": "3.6.5"
  }
 },
 "nbformat": 4,
 "nbformat_minor": 2
}
